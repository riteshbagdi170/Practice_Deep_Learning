{
 "cells": [
  {
   "cell_type": "code",
   "execution_count": 14,
   "id": "f4764b7f",
   "metadata": {},
   "outputs": [],
   "source": [
    "# basi library\n",
    "import numpy as np\n",
    "import pandas as pd\n",
    "import matplotlib.pyplot as plt\n",
    "\n",
    "# scalling \n",
    "from sklearn.preprocessing import StandardScaler\n",
    "\n",
    "# train test split\n",
    "from sklearn.model_selection import train_test_split\n",
    "\n",
    "# tensorflow\n",
    "from tensorflow.keras import Sequential\n",
    "from keras.layers import Dense\n",
    "\n",
    "#metric\n",
    "from sklearn.metrics import accuracy_score"
   ]
  },
  {
   "cell_type": "code",
   "execution_count": 2,
   "id": "cf80ec08",
   "metadata": {},
   "outputs": [
    {
     "data": {
      "text/html": [
       "<div>\n",
       "<style scoped>\n",
       "    .dataframe tbody tr th:only-of-type {\n",
       "        vertical-align: middle;\n",
       "    }\n",
       "\n",
       "    .dataframe tbody tr th {\n",
       "        vertical-align: top;\n",
       "    }\n",
       "\n",
       "    .dataframe thead th {\n",
       "        text-align: right;\n",
       "    }\n",
       "</style>\n",
       "<table border=\"1\" class=\"dataframe\">\n",
       "  <thead>\n",
       "    <tr style=\"text-align: right;\">\n",
       "      <th></th>\n",
       "      <th>RowNumber</th>\n",
       "      <th>CustomerId</th>\n",
       "      <th>Surname</th>\n",
       "      <th>CreditScore</th>\n",
       "      <th>Geography</th>\n",
       "      <th>Gender</th>\n",
       "      <th>Age</th>\n",
       "      <th>Tenure</th>\n",
       "      <th>Balance</th>\n",
       "      <th>NumOfProducts</th>\n",
       "      <th>HasCrCard</th>\n",
       "      <th>IsActiveMember</th>\n",
       "      <th>EstimatedSalary</th>\n",
       "      <th>Exited</th>\n",
       "    </tr>\n",
       "  </thead>\n",
       "  <tbody>\n",
       "    <tr>\n",
       "      <th>0</th>\n",
       "      <td>1</td>\n",
       "      <td>15634602</td>\n",
       "      <td>Hargrave</td>\n",
       "      <td>619</td>\n",
       "      <td>France</td>\n",
       "      <td>Female</td>\n",
       "      <td>42</td>\n",
       "      <td>2</td>\n",
       "      <td>0.00</td>\n",
       "      <td>1</td>\n",
       "      <td>1</td>\n",
       "      <td>1</td>\n",
       "      <td>101348.88</td>\n",
       "      <td>1</td>\n",
       "    </tr>\n",
       "    <tr>\n",
       "      <th>1</th>\n",
       "      <td>2</td>\n",
       "      <td>15647311</td>\n",
       "      <td>Hill</td>\n",
       "      <td>608</td>\n",
       "      <td>Spain</td>\n",
       "      <td>Female</td>\n",
       "      <td>41</td>\n",
       "      <td>1</td>\n",
       "      <td>83807.86</td>\n",
       "      <td>1</td>\n",
       "      <td>0</td>\n",
       "      <td>1</td>\n",
       "      <td>112542.58</td>\n",
       "      <td>0</td>\n",
       "    </tr>\n",
       "    <tr>\n",
       "      <th>2</th>\n",
       "      <td>3</td>\n",
       "      <td>15619304</td>\n",
       "      <td>Onio</td>\n",
       "      <td>502</td>\n",
       "      <td>France</td>\n",
       "      <td>Female</td>\n",
       "      <td>42</td>\n",
       "      <td>8</td>\n",
       "      <td>159660.80</td>\n",
       "      <td>3</td>\n",
       "      <td>1</td>\n",
       "      <td>0</td>\n",
       "      <td>113931.57</td>\n",
       "      <td>1</td>\n",
       "    </tr>\n",
       "    <tr>\n",
       "      <th>3</th>\n",
       "      <td>4</td>\n",
       "      <td>15701354</td>\n",
       "      <td>Boni</td>\n",
       "      <td>699</td>\n",
       "      <td>France</td>\n",
       "      <td>Female</td>\n",
       "      <td>39</td>\n",
       "      <td>1</td>\n",
       "      <td>0.00</td>\n",
       "      <td>2</td>\n",
       "      <td>0</td>\n",
       "      <td>0</td>\n",
       "      <td>93826.63</td>\n",
       "      <td>0</td>\n",
       "    </tr>\n",
       "    <tr>\n",
       "      <th>4</th>\n",
       "      <td>5</td>\n",
       "      <td>15737888</td>\n",
       "      <td>Mitchell</td>\n",
       "      <td>850</td>\n",
       "      <td>Spain</td>\n",
       "      <td>Female</td>\n",
       "      <td>43</td>\n",
       "      <td>2</td>\n",
       "      <td>125510.82</td>\n",
       "      <td>1</td>\n",
       "      <td>1</td>\n",
       "      <td>1</td>\n",
       "      <td>79084.10</td>\n",
       "      <td>0</td>\n",
       "    </tr>\n",
       "  </tbody>\n",
       "</table>\n",
       "</div>"
      ],
      "text/plain": [
       "   RowNumber  CustomerId   Surname  CreditScore Geography  Gender  Age  \\\n",
       "0          1    15634602  Hargrave          619    France  Female   42   \n",
       "1          2    15647311      Hill          608     Spain  Female   41   \n",
       "2          3    15619304      Onio          502    France  Female   42   \n",
       "3          4    15701354      Boni          699    France  Female   39   \n",
       "4          5    15737888  Mitchell          850     Spain  Female   43   \n",
       "\n",
       "   Tenure    Balance  NumOfProducts  HasCrCard  IsActiveMember  \\\n",
       "0       2       0.00              1          1               1   \n",
       "1       1   83807.86              1          0               1   \n",
       "2       8  159660.80              3          1               0   \n",
       "3       1       0.00              2          0               0   \n",
       "4       2  125510.82              1          1               1   \n",
       "\n",
       "   EstimatedSalary  Exited  \n",
       "0        101348.88       1  \n",
       "1        112542.58       0  \n",
       "2        113931.57       1  \n",
       "3         93826.63       0  \n",
       "4         79084.10       0  "
      ]
     },
     "execution_count": 2,
     "metadata": {},
     "output_type": "execute_result"
    }
   ],
   "source": [
    "data=pd.read_csv('Churn_Modelling.csv')\n",
    "data.head()"
   ]
  },
  {
   "cell_type": "code",
   "execution_count": 3,
   "id": "cac40998",
   "metadata": {},
   "outputs": [],
   "source": [
    "columns=['RowNumber','CustomerId','Surname']\n",
    "data.drop(columns=columns,inplace=True,axis=1)"
   ]
  },
  {
   "cell_type": "code",
   "execution_count": 4,
   "id": "e6c83dcc",
   "metadata": {},
   "outputs": [],
   "source": [
    "data['Geography']=data['Geography'].map({\n",
    "    'France':1,\n",
    "    'Germany':0,\n",
    "    'Spain':0\n",
    "    })"
   ]
  },
  {
   "cell_type": "code",
   "execution_count": 5,
   "id": "745986cd",
   "metadata": {},
   "outputs": [],
   "source": [
    "data['Gender']=data['Gender'].map({'Male':1,'Female':0})"
   ]
  },
  {
   "cell_type": "code",
   "execution_count": 6,
   "id": "6b0b00f1",
   "metadata": {},
   "outputs": [],
   "source": [
    "#train test split\n",
    "X=data.iloc[:,:-1]\n",
    "y=data.iloc[:,-1]\n",
    "X_train,X_test,y_train,y_test=train_test_split(X,y,test_size=0.2,random_state=42)"
   ]
  },
  {
   "cell_type": "code",
   "execution_count": 7,
   "id": "bff6569d",
   "metadata": {},
   "outputs": [],
   "source": [
    "#scalling\n",
    "sc=StandardScaler()\n",
    "scaled_Xtrain=sc.fit_transform(X_train)\n",
    "scaled_Xtest=sc.transform(X_test)"
   ]
  },
  {
   "cell_type": "code",
   "execution_count": 8,
   "id": "29de299b",
   "metadata": {},
   "outputs": [],
   "source": [
    "ann=Sequential()\n",
    "ann.add(Dense(11,activation='relu',input_dim=10))\n",
    "ann.add(Dense(11,activation='relu'))\n",
    "ann.add(Dense(1,activation='sigmoid'))"
   ]
  },
  {
   "cell_type": "code",
   "execution_count": 9,
   "id": "31ddef0a",
   "metadata": {},
   "outputs": [
    {
     "name": "stdout",
     "output_type": "stream",
     "text": [
      "Model: \"sequential\"\n",
      "_________________________________________________________________\n",
      " Layer (type)                Output Shape              Param #   \n",
      "=================================================================\n",
      " dense (Dense)               (None, 11)                121       \n",
      "                                                                 \n",
      " dense_1 (Dense)             (None, 11)                132       \n",
      "                                                                 \n",
      " dense_2 (Dense)             (None, 1)                 12        \n",
      "                                                                 \n",
      "=================================================================\n",
      "Total params: 265\n",
      "Trainable params: 265\n",
      "Non-trainable params: 0\n",
      "_________________________________________________________________\n"
     ]
    }
   ],
   "source": [
    "ann.summary()"
   ]
  },
  {
   "cell_type": "code",
   "execution_count": 10,
   "id": "9b3f3705",
   "metadata": {},
   "outputs": [],
   "source": [
    "ann.compile(loss='binary_crossentropy',optimizer='Adam',metrics=['Accuracy'])"
   ]
  },
  {
   "cell_type": "code",
   "execution_count": 11,
   "id": "12bddb33",
   "metadata": {},
   "outputs": [
    {
     "name": "stdout",
     "output_type": "stream",
     "text": [
      "Epoch 1/20\n",
      "200/200 [==============================] - 2s 4ms/step - loss: 0.5253 - Accuracy: 0.7875 - val_loss: 0.4653 - val_Accuracy: 0.8125\n",
      "Epoch 2/20\n",
      "200/200 [==============================] - 1s 3ms/step - loss: 0.4513 - Accuracy: 0.8048 - val_loss: 0.4302 - val_Accuracy: 0.8169\n",
      "Epoch 3/20\n",
      "200/200 [==============================] - 1s 3ms/step - loss: 0.4276 - Accuracy: 0.8152 - val_loss: 0.4187 - val_Accuracy: 0.8213\n",
      "Epoch 4/20\n",
      "200/200 [==============================] - 1s 3ms/step - loss: 0.4114 - Accuracy: 0.8245 - val_loss: 0.4047 - val_Accuracy: 0.8281\n",
      "Epoch 5/20\n",
      "200/200 [==============================] - 1s 3ms/step - loss: 0.3967 - Accuracy: 0.8348 - val_loss: 0.3945 - val_Accuracy: 0.8338\n",
      "Epoch 6/20\n",
      "200/200 [==============================] - 1s 3ms/step - loss: 0.3848 - Accuracy: 0.8413 - val_loss: 0.3842 - val_Accuracy: 0.8406\n",
      "Epoch 7/20\n",
      "200/200 [==============================] - 1s 3ms/step - loss: 0.3753 - Accuracy: 0.8480 - val_loss: 0.3770 - val_Accuracy: 0.8431\n",
      "Epoch 8/20\n",
      "200/200 [==============================] - 1s 3ms/step - loss: 0.3686 - Accuracy: 0.8491 - val_loss: 0.3788 - val_Accuracy: 0.8344\n",
      "Epoch 9/20\n",
      "200/200 [==============================] - 1s 3ms/step - loss: 0.3645 - Accuracy: 0.8516 - val_loss: 0.3704 - val_Accuracy: 0.8438\n",
      "Epoch 10/20\n",
      "200/200 [==============================] - 1s 3ms/step - loss: 0.3607 - Accuracy: 0.8519 - val_loss: 0.3704 - val_Accuracy: 0.8438\n",
      "Epoch 11/20\n",
      "200/200 [==============================] - 1s 3ms/step - loss: 0.3583 - Accuracy: 0.8527 - val_loss: 0.3685 - val_Accuracy: 0.8431\n",
      "Epoch 12/20\n",
      "200/200 [==============================] - 1s 3ms/step - loss: 0.3565 - Accuracy: 0.8522 - val_loss: 0.3663 - val_Accuracy: 0.8444\n",
      "Epoch 13/20\n",
      "200/200 [==============================] - 1s 3ms/step - loss: 0.3550 - Accuracy: 0.8550 - val_loss: 0.3656 - val_Accuracy: 0.8425\n",
      "Epoch 14/20\n",
      "200/200 [==============================] - 1s 3ms/step - loss: 0.3541 - Accuracy: 0.8534 - val_loss: 0.3646 - val_Accuracy: 0.8456\n",
      "Epoch 15/20\n",
      "200/200 [==============================] - 1s 3ms/step - loss: 0.3530 - Accuracy: 0.8539 - val_loss: 0.3647 - val_Accuracy: 0.8444\n",
      "Epoch 16/20\n",
      "200/200 [==============================] - 1s 3ms/step - loss: 0.3518 - Accuracy: 0.8572 - val_loss: 0.3642 - val_Accuracy: 0.8469\n",
      "Epoch 17/20\n",
      "200/200 [==============================] - 1s 3ms/step - loss: 0.3510 - Accuracy: 0.8552 - val_loss: 0.3636 - val_Accuracy: 0.8431\n",
      "Epoch 18/20\n",
      "200/200 [==============================] - 1s 3ms/step - loss: 0.3499 - Accuracy: 0.8566 - val_loss: 0.3612 - val_Accuracy: 0.8512\n",
      "Epoch 19/20\n",
      "200/200 [==============================] - 1s 3ms/step - loss: 0.3491 - Accuracy: 0.8561 - val_loss: 0.3607 - val_Accuracy: 0.8506\n",
      "Epoch 20/20\n",
      "200/200 [==============================] - 1s 3ms/step - loss: 0.3483 - Accuracy: 0.8577 - val_loss: 0.3616 - val_Accuracy: 0.8494\n"
     ]
    }
   ],
   "source": [
    "history=ann.fit(scaled_Xtrain,y_train,epochs=20,validation_split=0.2)"
   ]
  },
  {
   "cell_type": "code",
   "execution_count": 16,
   "id": "0162e368",
   "metadata": {},
   "outputs": [
    {
     "name": "stdout",
     "output_type": "stream",
     "text": [
      "63/63 [==============================] - 0s 2ms/step\n"
     ]
    }
   ],
   "source": [
    "y_log=ann.predict(scaled_Xtest)"
   ]
  },
  {
   "cell_type": "code",
   "execution_count": 17,
   "id": "1a83e5ff",
   "metadata": {},
   "outputs": [],
   "source": [
    "y_pred=np.where(y_log>0.5,1,0)"
   ]
  },
  {
   "cell_type": "code",
   "execution_count": 18,
   "id": "9f0c1016",
   "metadata": {},
   "outputs": [
    {
     "data": {
      "text/plain": [
       "0.854"
      ]
     },
     "execution_count": 18,
     "metadata": {},
     "output_type": "execute_result"
    }
   ],
   "source": [
    "accuracy_score(y_test,y_pred)"
   ]
  },
  {
   "cell_type": "code",
   "execution_count": 20,
   "id": "4c81a931",
   "metadata": {
    "scrolled": false
   },
   "outputs": [
    {
     "data": {
      "text/plain": [
       "{'loss': [0.5253491401672363,\n",
       "  0.4512786865234375,\n",
       "  0.42758727073669434,\n",
       "  0.4114151895046234,\n",
       "  0.39674416184425354,\n",
       "  0.38478514552116394,\n",
       "  0.37532639503479004,\n",
       "  0.36860141158103943,\n",
       "  0.36448824405670166,\n",
       "  0.3607388436794281,\n",
       "  0.3583395779132843,\n",
       "  0.35653603076934814,\n",
       "  0.3550277054309845,\n",
       "  0.35407984256744385,\n",
       "  0.35296162962913513,\n",
       "  0.3518393337726593,\n",
       "  0.3510243892669678,\n",
       "  0.3498685359954834,\n",
       "  0.34911972284317017,\n",
       "  0.3482975363731384],\n",
       " 'Accuracy': [0.7875000238418579,\n",
       "  0.8048437237739563,\n",
       "  0.8151562213897705,\n",
       "  0.8245312571525574,\n",
       "  0.8348437547683716,\n",
       "  0.8412500023841858,\n",
       "  0.8479687571525574,\n",
       "  0.8490625023841858,\n",
       "  0.8515625,\n",
       "  0.8518750071525574,\n",
       "  0.8526562452316284,\n",
       "  0.8521875143051147,\n",
       "  0.8550000190734863,\n",
       "  0.8534374833106995,\n",
       "  0.8539062738418579,\n",
       "  0.8571875095367432,\n",
       "  0.8551562428474426,\n",
       "  0.8565624952316284,\n",
       "  0.8560937643051147,\n",
       "  0.8576562404632568],\n",
       " 'val_loss': [0.4653380215167999,\n",
       "  0.4301886260509491,\n",
       "  0.41873452067375183,\n",
       "  0.4046650826931,\n",
       "  0.39452359080314636,\n",
       "  0.3841780722141266,\n",
       "  0.3770403265953064,\n",
       "  0.37880176305770874,\n",
       "  0.37041211128234863,\n",
       "  0.3704416751861572,\n",
       "  0.368452787399292,\n",
       "  0.36626121401786804,\n",
       "  0.3656138479709625,\n",
       "  0.3645784854888916,\n",
       "  0.3647039532661438,\n",
       "  0.36416083574295044,\n",
       "  0.3636401891708374,\n",
       "  0.3612358570098877,\n",
       "  0.36073026061058044,\n",
       "  0.3616173565387726],\n",
       " 'val_Accuracy': [0.8125,\n",
       "  0.8168749809265137,\n",
       "  0.8212500214576721,\n",
       "  0.828125,\n",
       "  0.8337500095367432,\n",
       "  0.840624988079071,\n",
       "  0.8431249856948853,\n",
       "  0.8343750238418579,\n",
       "  0.84375,\n",
       "  0.84375,\n",
       "  0.8431249856948853,\n",
       "  0.8443750143051147,\n",
       "  0.8424999713897705,\n",
       "  0.8456249833106995,\n",
       "  0.8443750143051147,\n",
       "  0.846875011920929,\n",
       "  0.8431249856948853,\n",
       "  0.8512499928474426,\n",
       "  0.8506249785423279,\n",
       "  0.8493750095367432]}"
      ]
     },
     "execution_count": 20,
     "metadata": {},
     "output_type": "execute_result"
    }
   ],
   "source": [
    "history.history"
   ]
  },
  {
   "cell_type": "code",
   "execution_count": 21,
   "id": "7657d80c",
   "metadata": {},
   "outputs": [
    {
     "data": {
      "text/plain": [
       "[<matplotlib.lines.Line2D at 0x252aaeec730>]"
      ]
     },
     "execution_count": 21,
     "metadata": {},
     "output_type": "execute_result"
    },
    {
     "data": {
      "image/png": "[encoded data removed]",
      "text/plain": [
       "<Figure size 432x288 with 1 Axes>"
      ]
     },
     "metadata": {
      "needs_background": "light"
     },
     "output_type": "display_data"
    }
   ],
   "source": [
    "plt.plot(history.history['loss'])\n",
    "plt.plot(history.history['val_loss'])"
   ]
  },
  {
   "cell_type": "code",
   "execution_count": 27,
   "id": "c1fa135d",
   "metadata": {},
   "outputs": [
    {
     "data": {
      "text/plain": [
       "[<matplotlib.lines.Line2D at 0x252afcf1130>]"
      ]
     },
     "execution_count": 27,
     "metadata": {},
     "output_type": "execute_result"
    },
    {
     "data": {
      "image/png": "[encoded data removed]",
      "text/plain": [
       "<Figure size 432x288 with 1 Axes>"
      ]
     },
     "metadata": {
      "needs_background": "light"
     },
     "output_type": "display_data"
    }
   ],
   "source": [
    "plt.plot(history.history['Accuracy'])\n",
    "plt.plot(history.history['val_Accuracy'])"
   ]
  }
 ],
 "metadata": {
  "kernelspec": {
   "display_name": "Python 3 (ipykernel)",
   "language": "python",
   "name": "python3"
  },
  "language_info": {
   "codemirror_mode": {
    "name": "ipython",
    "version": 3
   },
   "file_extension": ".py",
   "mimetype": "text/x-python",
   "name": "python",
   "nbconvert_exporter": "python",
   "pygments_lexer": "ipython3",
   "version": "3.9.12"
  }
 },
 "nbformat": 4,
 "nbformat_minor": 5
}
