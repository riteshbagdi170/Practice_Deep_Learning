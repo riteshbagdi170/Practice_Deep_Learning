{
 "cells": [
  {
   "cell_type": "code",
   "execution_count": 1,
   "id": "9d17dde9",
   "metadata": {},
   "outputs": [],
   "source": [
    "import numpy as np\n",
    "import pandas as pd\n",
    "import matplotlib.pyplot as plt\n",
    "\n",
    "# scalling lib\n",
    "from sklearn.preprocessing import MinMaxScaler\n",
    "\n",
    "# train test split\n",
    "from sklearn.model_selection import train_test_split\n",
    "\n",
    "# ANN\n",
    "from tensorflow.keras import Sequential\n",
    "from keras.layers import Dense\n",
    "\n",
    "# Accuracy\n",
    "from sklearn.metrics import accuracy_score"
   ]
  },
  {
   "cell_type": "code",
   "execution_count": 2,
   "id": "a80e758e",
   "metadata": {},
   "outputs": [],
   "source": [
    "data=pd.read_csv(\"Heart_Disease.csv\")"
   ]
  },
  {
   "cell_type": "code",
   "execution_count": 3,
   "id": "5380a7f8",
   "metadata": {},
   "outputs": [],
   "source": [
    "# train test split\n",
    "X=data.iloc[:,:-1]\n",
    "y=data.iloc[:,-1]\n",
    "X_train,X_test,y_train,y_test=train_test_split(X,y,test_size=0.2,random_state=42)"
   ]
  },
  {
   "cell_type": "code",
   "execution_count": 4,
   "id": "dec3aef9",
   "metadata": {},
   "outputs": [],
   "source": [
    "# scalling\n",
    "sc=MinMaxScaler()\n",
    "scaled_Xtrain=sc.fit_transform(X_train)\n",
    "scaled_Xtest=sc.transform(X_test)"
   ]
  },
  {
   "cell_type": "code",
   "execution_count": 5,
   "id": "3ac473ab",
   "metadata": {},
   "outputs": [],
   "source": [
    "ann=Sequential()\n",
    "ann.add(Dense(11,activation='relu',input_dim=13))\n",
    "ann.add(Dense(11,activation='relu'))\n",
    "ann.add(Dense(1,activation='sigmoid'))"
   ]
  },
  {
   "cell_type": "code",
   "execution_count": 6,
   "id": "fb01ed88",
   "metadata": {
    "scrolled": true
   },
   "outputs": [
    {
     "name": "stdout",
     "output_type": "stream",
     "text": [
      "Model: \"sequential\"\n",
      "_________________________________________________________________\n",
      " Layer (type)                Output Shape              Param #   \n",
      "=================================================================\n",
      " dense (Dense)               (None, 11)                154       \n",
      "                                                                 \n",
      " dense_1 (Dense)             (None, 11)                132       \n",
      "                                                                 \n",
      " dense_2 (Dense)             (None, 1)                 12        \n",
      "                                                                 \n",
      "=================================================================\n",
      "Total params: 298\n",
      "Trainable params: 298\n",
      "Non-trainable params: 0\n",
      "_________________________________________________________________\n"
     ]
    }
   ],
   "source": [
    "ann.summary()"
   ]
  },
  {
   "cell_type": "code",
   "execution_count": 7,
   "id": "14ff3014",
   "metadata": {},
   "outputs": [],
   "source": [
    "ann.compile(loss='binary_crossentropy',optimizer='Adam',metrics=['accuracy'])"
   ]
  },
  {
   "cell_type": "code",
   "execution_count": 8,
   "id": "3c6ba6fd",
   "metadata": {
    "scrolled": false
   },
   "outputs": [
    {
     "name": "stdout",
     "output_type": "stream",
     "text": [
      "Epoch 1/40\n",
      "7/7 [==============================] - 2s 72ms/step - loss: 0.6802 - accuracy: 0.5440 - val_loss: 0.6758 - val_accuracy: 0.5714\n",
      "Epoch 2/40\n",
      "7/7 [==============================] - 0s 12ms/step - loss: 0.6756 - accuracy: 0.5440 - val_loss: 0.6721 - val_accuracy: 0.5714\n",
      "Epoch 3/40\n",
      "7/7 [==============================] - 0s 11ms/step - loss: 0.6719 - accuracy: 0.5544 - val_loss: 0.6677 - val_accuracy: 0.5714\n",
      "Epoch 4/40\n",
      "7/7 [==============================] - 0s 11ms/step - loss: 0.6679 - accuracy: 0.5699 - val_loss: 0.6630 - val_accuracy: 0.5714\n",
      "Epoch 5/40\n",
      "7/7 [==============================] - 0s 11ms/step - loss: 0.6637 - accuracy: 0.5699 - val_loss: 0.6582 - val_accuracy: 0.5918\n",
      "Epoch 6/40\n",
      "7/7 [==============================] - 0s 11ms/step - loss: 0.6591 - accuracy: 0.5959 - val_loss: 0.6525 - val_accuracy: 0.5918\n",
      "Epoch 7/40\n",
      "7/7 [==============================] - 0s 10ms/step - loss: 0.6541 - accuracy: 0.6062 - val_loss: 0.6456 - val_accuracy: 0.6327\n",
      "Epoch 8/40\n",
      "7/7 [==============================] - 0s 10ms/step - loss: 0.6486 - accuracy: 0.6114 - val_loss: 0.6380 - val_accuracy: 0.7143\n",
      "Epoch 9/40\n",
      "7/7 [==============================] - 0s 12ms/step - loss: 0.6429 - accuracy: 0.6373 - val_loss: 0.6304 - val_accuracy: 0.7551\n",
      "Epoch 10/40\n",
      "7/7 [==============================] - 0s 9ms/step - loss: 0.6370 - accuracy: 0.6839 - val_loss: 0.6228 - val_accuracy: 0.7551\n",
      "Epoch 11/40\n",
      "7/7 [==============================] - 0s 12ms/step - loss: 0.6310 - accuracy: 0.6995 - val_loss: 0.6146 - val_accuracy: 0.7551\n",
      "Epoch 12/40\n",
      "7/7 [==============================] - 0s 11ms/step - loss: 0.6249 - accuracy: 0.7150 - val_loss: 0.6053 - val_accuracy: 0.7959\n",
      "Epoch 13/40\n",
      "7/7 [==============================] - 0s 9ms/step - loss: 0.6192 - accuracy: 0.7254 - val_loss: 0.5937 - val_accuracy: 0.7959\n",
      "Epoch 14/40\n",
      "7/7 [==============================] - 0s 9ms/step - loss: 0.6119 - accuracy: 0.7306 - val_loss: 0.5809 - val_accuracy: 0.8163\n",
      "Epoch 15/40\n",
      "7/7 [==============================] - 0s 16ms/step - loss: 0.6036 - accuracy: 0.7358 - val_loss: 0.5683 - val_accuracy: 0.8367\n",
      "Epoch 16/40\n",
      "7/7 [==============================] - 0s 14ms/step - loss: 0.5953 - accuracy: 0.7409 - val_loss: 0.5560 - val_accuracy: 0.8163\n",
      "Epoch 17/40\n",
      "7/7 [==============================] - 0s 14ms/step - loss: 0.5853 - accuracy: 0.7565 - val_loss: 0.5466 - val_accuracy: 0.8367\n",
      "Epoch 18/40\n",
      "7/7 [==============================] - 0s 12ms/step - loss: 0.5778 - accuracy: 0.7513 - val_loss: 0.5394 - val_accuracy: 0.8571\n",
      "Epoch 19/40\n",
      "7/7 [==============================] - 0s 12ms/step - loss: 0.5695 - accuracy: 0.7617 - val_loss: 0.5287 - val_accuracy: 0.8571\n",
      "Epoch 20/40\n",
      "7/7 [==============================] - 0s 10ms/step - loss: 0.5616 - accuracy: 0.7617 - val_loss: 0.5192 - val_accuracy: 0.8571\n",
      "Epoch 21/40\n",
      "7/7 [==============================] - 0s 10ms/step - loss: 0.5529 - accuracy: 0.7617 - val_loss: 0.5087 - val_accuracy: 0.8776\n",
      "Epoch 22/40\n",
      "7/7 [==============================] - 0s 11ms/step - loss: 0.5452 - accuracy: 0.7617 - val_loss: 0.5013 - val_accuracy: 0.8163\n",
      "Epoch 23/40\n",
      "7/7 [==============================] - 0s 13ms/step - loss: 0.5381 - accuracy: 0.7565 - val_loss: 0.4903 - val_accuracy: 0.8163\n",
      "Epoch 24/40\n",
      "7/7 [==============================] - 0s 13ms/step - loss: 0.5308 - accuracy: 0.7565 - val_loss: 0.4804 - val_accuracy: 0.8163\n",
      "Epoch 25/40\n",
      "7/7 [==============================] - 0s 13ms/step - loss: 0.5240 - accuracy: 0.7668 - val_loss: 0.4701 - val_accuracy: 0.8367\n",
      "Epoch 26/40\n",
      "7/7 [==============================] - 0s 10ms/step - loss: 0.5176 - accuracy: 0.7668 - val_loss: 0.4625 - val_accuracy: 0.8367\n",
      "Epoch 27/40\n",
      "7/7 [==============================] - 0s 10ms/step - loss: 0.5110 - accuracy: 0.7617 - val_loss: 0.4554 - val_accuracy: 0.8367\n",
      "Epoch 28/40\n",
      "7/7 [==============================] - 0s 10ms/step - loss: 0.5059 - accuracy: 0.7668 - val_loss: 0.4526 - val_accuracy: 0.8367\n",
      "Epoch 29/40\n",
      "7/7 [==============================] - 0s 14ms/step - loss: 0.5011 - accuracy: 0.7720 - val_loss: 0.4560 - val_accuracy: 0.7959\n",
      "Epoch 30/40\n",
      "7/7 [==============================] - 0s 15ms/step - loss: 0.4982 - accuracy: 0.7824 - val_loss: 0.4501 - val_accuracy: 0.8367\n",
      "Epoch 31/40\n",
      "7/7 [==============================] - 0s 14ms/step - loss: 0.4943 - accuracy: 0.7720 - val_loss: 0.4433 - val_accuracy: 0.8367\n",
      "Epoch 32/40\n",
      "7/7 [==============================] - 0s 9ms/step - loss: 0.4908 - accuracy: 0.7720 - val_loss: 0.4426 - val_accuracy: 0.8367\n",
      "Epoch 33/40\n",
      "7/7 [==============================] - 0s 9ms/step - loss: 0.4861 - accuracy: 0.7772 - val_loss: 0.4372 - val_accuracy: 0.8367\n",
      "Epoch 34/40\n",
      "7/7 [==============================] - 0s 9ms/step - loss: 0.4807 - accuracy: 0.7772 - val_loss: 0.4296 - val_accuracy: 0.8367\n",
      "Epoch 35/40\n",
      "7/7 [==============================] - 0s 11ms/step - loss: 0.4759 - accuracy: 0.7772 - val_loss: 0.4205 - val_accuracy: 0.8163\n",
      "Epoch 36/40\n",
      "7/7 [==============================] - 0s 12ms/step - loss: 0.4741 - accuracy: 0.7720 - val_loss: 0.4145 - val_accuracy: 0.8571\n",
      "Epoch 37/40\n",
      "7/7 [==============================] - 0s 9ms/step - loss: 0.4707 - accuracy: 0.7927 - val_loss: 0.4133 - val_accuracy: 0.8367\n",
      "Epoch 38/40\n",
      "7/7 [==============================] - 0s 9ms/step - loss: 0.4662 - accuracy: 0.7927 - val_loss: 0.4101 - val_accuracy: 0.8367\n",
      "Epoch 39/40\n",
      "7/7 [==============================] - 0s 10ms/step - loss: 0.4618 - accuracy: 0.7979 - val_loss: 0.4092 - val_accuracy: 0.8163\n",
      "Epoch 40/40\n",
      "7/7 [==============================] - 0s 9ms/step - loss: 0.4569 - accuracy: 0.7979 - val_loss: 0.4102 - val_accuracy: 0.8367\n"
     ]
    }
   ],
   "source": [
    "history=ann.fit(scaled_Xtrain,y_train,epochs=40,validation_split=0.2)"
   ]
  },
  {
   "cell_type": "code",
   "execution_count": 9,
   "id": "12da1707",
   "metadata": {},
   "outputs": [
    {
     "name": "stdout",
     "output_type": "stream",
     "text": [
      "2/2 [==============================] - 0s 7ms/step\n"
     ]
    }
   ],
   "source": [
    "y_log=ann.predict(scaled_Xtest)"
   ]
  },
  {
   "cell_type": "code",
   "execution_count": 10,
   "id": "9d4fc6b3",
   "metadata": {},
   "outputs": [],
   "source": [
    "y_pred=np.where(y_log>0.5,1,0)"
   ]
  },
  {
   "cell_type": "code",
   "execution_count": 11,
   "id": "b13b3f96",
   "metadata": {},
   "outputs": [
    {
     "data": {
      "text/plain": [
       "0.8360655737704918"
      ]
     },
     "execution_count": 11,
     "metadata": {},
     "output_type": "execute_result"
    }
   ],
   "source": [
    "accuracy_score(y_test,y_pred)"
   ]
  },
  {
   "cell_type": "code",
   "execution_count": 12,
   "id": "1bf259a0",
   "metadata": {},
   "outputs": [
    {
     "data": {
      "text/plain": [
       "{'loss': [0.6802048087120056,\n",
       "  0.6755890250205994,\n",
       "  0.671941339969635,\n",
       "  0.6679325103759766,\n",
       "  0.6636645197868347,\n",
       "  0.6591467261314392,\n",
       "  0.654144287109375,\n",
       "  0.6486267447471619,\n",
       "  0.6428815126419067,\n",
       "  0.6370407938957214,\n",
       "  0.6310257315635681,\n",
       "  0.6249057054519653,\n",
       "  0.619154691696167,\n",
       "  0.6118730306625366,\n",
       "  0.6035705208778381,\n",
       "  0.5953224301338196,\n",
       "  0.5853012800216675,\n",
       "  0.5777598023414612,\n",
       "  0.5695196986198425,\n",
       "  0.5615795850753784,\n",
       "  0.5529089570045471,\n",
       "  0.5452401041984558,\n",
       "  0.5380873680114746,\n",
       "  0.5307695865631104,\n",
       "  0.5240433812141418,\n",
       "  0.5176052451133728,\n",
       "  0.5110220909118652,\n",
       "  0.5058823227882385,\n",
       "  0.5010990500450134,\n",
       "  0.49817749857902527,\n",
       "  0.4942515194416046,\n",
       "  0.4908353090286255,\n",
       "  0.48608192801475525,\n",
       "  0.48069390654563904,\n",
       "  0.4758715331554413,\n",
       "  0.47411835193634033,\n",
       "  0.47072893381118774,\n",
       "  0.46619588136672974,\n",
       "  0.46180593967437744,\n",
       "  0.4569070339202881],\n",
       " 'accuracy': [0.5440414547920227,\n",
       "  0.5440414547920227,\n",
       "  0.5544041395187378,\n",
       "  0.5699481964111328,\n",
       "  0.5699481964111328,\n",
       "  0.5958549380302429,\n",
       "  0.606217622756958,\n",
       "  0.6113989353179932,\n",
       "  0.6373056769371033,\n",
       "  0.6839378476142883,\n",
       "  0.6994818449020386,\n",
       "  0.7150259017944336,\n",
       "  0.7253885865211487,\n",
       "  0.7305699586868286,\n",
       "  0.7357512712478638,\n",
       "  0.7409326434135437,\n",
       "  0.7564767003059387,\n",
       "  0.7512953281402588,\n",
       "  0.7616580128669739,\n",
       "  0.7616580128669739,\n",
       "  0.7616580128669739,\n",
       "  0.7616580128669739,\n",
       "  0.7564767003059387,\n",
       "  0.7564767003059387,\n",
       "  0.7668393850326538,\n",
       "  0.7668393850326538,\n",
       "  0.7616580128669739,\n",
       "  0.7668393850326538,\n",
       "  0.772020697593689,\n",
       "  0.7823834419250488,\n",
       "  0.772020697593689,\n",
       "  0.772020697593689,\n",
       "  0.7772020697593689,\n",
       "  0.7772020697593689,\n",
       "  0.7772020697593689,\n",
       "  0.772020697593689,\n",
       "  0.7927461266517639,\n",
       "  0.7927461266517639,\n",
       "  0.7979274392127991,\n",
       "  0.7979274392127991],\n",
       " 'val_loss': [0.6757529377937317,\n",
       "  0.6721186637878418,\n",
       "  0.6676636338233948,\n",
       "  0.6630122661590576,\n",
       "  0.658180832862854,\n",
       "  0.6525243520736694,\n",
       "  0.645577073097229,\n",
       "  0.6379809975624084,\n",
       "  0.630388081073761,\n",
       "  0.6228137612342834,\n",
       "  0.6146326065063477,\n",
       "  0.6052606105804443,\n",
       "  0.5936506390571594,\n",
       "  0.5808877944946289,\n",
       "  0.56834876537323,\n",
       "  0.5559972524642944,\n",
       "  0.5465622544288635,\n",
       "  0.5394162535667419,\n",
       "  0.5287467837333679,\n",
       "  0.5192014575004578,\n",
       "  0.5086637139320374,\n",
       "  0.5012649893760681,\n",
       "  0.4902998208999634,\n",
       "  0.4803856909275055,\n",
       "  0.4701388478279114,\n",
       "  0.4625075161457062,\n",
       "  0.455350786447525,\n",
       "  0.45264941453933716,\n",
       "  0.45595642924308777,\n",
       "  0.4501337707042694,\n",
       "  0.44330427050590515,\n",
       "  0.44262781739234924,\n",
       "  0.4371982514858246,\n",
       "  0.42958033084869385,\n",
       "  0.4205334782600403,\n",
       "  0.4144987463951111,\n",
       "  0.413271963596344,\n",
       "  0.41005441546440125,\n",
       "  0.40919989347457886,\n",
       "  0.41021421551704407],\n",
       " 'val_accuracy': [0.5714285969734192,\n",
       "  0.5714285969734192,\n",
       "  0.5714285969734192,\n",
       "  0.5714285969734192,\n",
       "  0.5918367505073547,\n",
       "  0.5918367505073547,\n",
       "  0.6326530575752258,\n",
       "  0.7142857313156128,\n",
       "  0.7551020383834839,\n",
       "  0.7551020383834839,\n",
       "  0.7551020383834839,\n",
       "  0.795918345451355,\n",
       "  0.795918345451355,\n",
       "  0.8163265585899353,\n",
       "  0.8367347121238708,\n",
       "  0.8163265585899353,\n",
       "  0.8367347121238708,\n",
       "  0.8571428656578064,\n",
       "  0.8571428656578064,\n",
       "  0.8571428656578064,\n",
       "  0.8775510191917419,\n",
       "  0.8163265585899353,\n",
       "  0.8163265585899353,\n",
       "  0.8163265585899353,\n",
       "  0.8367347121238708,\n",
       "  0.8367347121238708,\n",
       "  0.8367347121238708,\n",
       "  0.8367347121238708,\n",
       "  0.795918345451355,\n",
       "  0.8367347121238708,\n",
       "  0.8367347121238708,\n",
       "  0.8367347121238708,\n",
       "  0.8367347121238708,\n",
       "  0.8367347121238708,\n",
       "  0.8163265585899353,\n",
       "  0.8571428656578064,\n",
       "  0.8367347121238708,\n",
       "  0.8367347121238708,\n",
       "  0.8163265585899353,\n",
       "  0.8367347121238708]}"
      ]
     },
     "execution_count": 12,
     "metadata": {},
     "output_type": "execute_result"
    }
   ],
   "source": [
    "history.history"
   ]
  },
  {
   "cell_type": "code",
   "execution_count": 14,
   "id": "a9bc82e1",
   "metadata": {},
   "outputs": [
    {
     "data": {
      "text/plain": [
       "[<matplotlib.lines.Line2D at 0x1c4ee8be130>]"
      ]
     },
     "execution_count": 14,
     "metadata": {},
     "output_type": "execute_result"
    },
    {
     "data": {
      "image/png": "[encoded data removed]",
      "text/plain": [
       "<Figure size 432x288 with 1 Axes>"
      ]
     },
     "metadata": {
      "needs_background": "light"
     },
     "output_type": "display_data"
    }
   ],
   "source": [
    "plt.plot(history.history['loss'])\n",
    "plt.plot(history.history['val_loss'])"
   ]
  },
  {
   "cell_type": "code",
   "execution_count": 15,
   "id": "31200e1a",
   "metadata": {},
   "outputs": [
    {
     "data": {
      "text/plain": [
       "[<matplotlib.lines.Line2D at 0x1c4ebbede20>]"
      ]
     },
     "execution_count": 15,
     "metadata": {},
     "output_type": "execute_result"
    },
    {
     "data": {
      "image/png": "[encoded data removed]",
      "text/plain": [
       "<Figure size 432x288 with 1 Axes>"
      ]
     },
     "metadata": {
      "needs_background": "light"
     },
     "output_type": "display_data"
    }
   ],
   "source": [
    "plt.plot(history.history['accuracy'])\n",
    "plt.plot(history.history['val_accuracy'])"
   ]
  }
 ],
 "metadata": {
  "kernelspec": {
   "display_name": "Python 3 (ipykernel)",
   "language": "python",
   "name": "python3"
  },
  "language_info": {
   "codemirror_mode": {
    "name": "ipython",
    "version": 3
   },
   "file_extension": ".py",
   "mimetype": "text/x-python",
   "name": "python",
   "nbconvert_exporter": "python",
   "pygments_lexer": "ipython3",
   "version": "3.9.12"
  }
 },
 "nbformat": 4,
 "nbformat_minor": 5
}
