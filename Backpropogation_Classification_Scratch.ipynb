{
 "cells": [
  {
   "cell_type": "code",
   "execution_count": 1,
   "id": "6f61e8ca",
   "metadata": {},
   "outputs": [],
   "source": [
    "import numpy as np\n",
    "import pandas as pd\n",
    "import matplotlib.pyplot as plt"
   ]
  },
  {
   "cell_type": "code",
   "execution_count": 2,
   "id": "c001e8f1",
   "metadata": {},
   "outputs": [],
   "source": [
    "data=pd.DataFrame([[8,8,1],[7,9,1],[6,10,0],[5,5,0]],columns=['cgpa', 'profile_score', 'placed'])"
   ]
  },
  {
   "cell_type": "code",
   "execution_count": 3,
   "id": "b2fb5e99",
   "metadata": {},
   "outputs": [
    {
     "data": {
      "text/html": [
       "<div>\n",
       "<style scoped>\n",
       "    .dataframe tbody tr th:only-of-type {\n",
       "        vertical-align: middle;\n",
       "    }\n",
       "\n",
       "    .dataframe tbody tr th {\n",
       "        vertical-align: top;\n",
       "    }\n",
       "\n",
       "    .dataframe thead th {\n",
       "        text-align: right;\n",
       "    }\n",
       "</style>\n",
       "<table border=\"1\" class=\"dataframe\">\n",
       "  <thead>\n",
       "    <tr style=\"text-align: right;\">\n",
       "      <th></th>\n",
       "      <th>cgpa</th>\n",
       "      <th>profile_score</th>\n",
       "      <th>placed</th>\n",
       "    </tr>\n",
       "  </thead>\n",
       "  <tbody>\n",
       "    <tr>\n",
       "      <th>0</th>\n",
       "      <td>8</td>\n",
       "      <td>8</td>\n",
       "      <td>1</td>\n",
       "    </tr>\n",
       "    <tr>\n",
       "      <th>1</th>\n",
       "      <td>7</td>\n",
       "      <td>9</td>\n",
       "      <td>1</td>\n",
       "    </tr>\n",
       "    <tr>\n",
       "      <th>2</th>\n",
       "      <td>6</td>\n",
       "      <td>10</td>\n",
       "      <td>0</td>\n",
       "    </tr>\n",
       "    <tr>\n",
       "      <th>3</th>\n",
       "      <td>5</td>\n",
       "      <td>5</td>\n",
       "      <td>0</td>\n",
       "    </tr>\n",
       "  </tbody>\n",
       "</table>\n",
       "</div>"
      ],
      "text/plain": [
       "   cgpa  profile_score  placed\n",
       "0     8              8       1\n",
       "1     7              9       1\n",
       "2     6             10       0\n",
       "3     5              5       0"
      ]
     },
     "execution_count": 3,
     "metadata": {},
     "output_type": "execute_result"
    }
   ],
   "source": [
    "data"
   ]
  },
  {
   "cell_type": "code",
   "execution_count": 4,
   "id": "c570a221",
   "metadata": {},
   "outputs": [],
   "source": [
    "# intializating parameters\n",
    "# {'W1': array([[0.1, 0.1],\n",
    "#         [0.1, 0.1]]),\n",
    "#  'B1': array([[0.],\n",
    "#         [0.]]),\n",
    "#  'W2': array([[0.1],\n",
    "#         [0.1]]),\n",
    "#  'B2': array([[0.]])}\n",
    "\n",
    "def init_parameters(arr):\n",
    "    parameters={}\n",
    "    \n",
    "    for i in range(1,len(arr)):\n",
    "        parameters['W'+str(i)]=np.ones((arr[i-1],arr[i]))*0.1\n",
    "        parameters['B'+str(i)]=np.zeros((arr[i],1))\n",
    "        \n",
    "    return parameters"
   ]
  },
  {
   "cell_type": "code",
   "execution_count": 5,
   "id": "eda659d9",
   "metadata": {},
   "outputs": [],
   "source": [
    "def sigmoid(Z):\n",
    "    return 1/(1+np.exp(-Z))"
   ]
  },
  {
   "cell_type": "code",
   "execution_count": 6,
   "id": "c0934853",
   "metadata": {},
   "outputs": [],
   "source": [
    "def calculate_values(W,X,B):\n",
    "    return sigmoid(np.dot(W.T, X) + B)"
   ]
  },
  {
   "cell_type": "code",
   "execution_count": 7,
   "id": "8882497d",
   "metadata": {},
   "outputs": [],
   "source": [
    "def cal_prediction(parameters,X):\n",
    "    A1={}\n",
    "    for j in range(2):\n",
    "        W1=parameters['W1'][j]\n",
    "        B1=parameters['B1'][j]\n",
    "        W2=parameters['W2'][j]\n",
    "        B2=parameters['B2'][0]\n",
    "        A1['O'+str(j+1)]=calculate_values(W1,X,B1)\n",
    "        A1['O'+str(j+2)]=calculate_values(W2,pd.DataFrame(A1),B2)\n",
    "    return A1"
   ]
  },
  {
   "cell_type": "code",
   "execution_count": 8,
   "id": "b31ebbf7",
   "metadata": {},
   "outputs": [],
   "source": [
    "def update_parameters(parameters,X,A1,y,y_hat):\n",
    "    # 1st Weights W1,W2,B1\n",
    "    parameters['W1'][0][0]=parameters['W1'][0][0]+(0.0001*(y-y_hat)*parameters['W2'][0][0]*A1['O1']*(1-A1['O1'])*X[0])\n",
    "    parameters['W1'][0][1]=parameters['W1'][0][1]+(0.0001*(y-y_hat)*parameters['W2'][0][0]*A1['O1']*(1-A1['O1'])*X[1])\n",
    "    parameters['B1'][0][0]=parameters['B1'][0][0]+(0.0001*(y-y_hat)*parameters['W2'][0][0]*A1['O1']*(1-A1['O1']))\n",
    "    \n",
    "    # 2nd Weights W3,W4.B2\n",
    "    parameters['W1'][1][0]=parameters['W1'][1][0]+(0.0001*(y-y_hat)*parameters['W2'][1][0]*A1['O2']*(1-A1['O2'])*X[0])\n",
    "    parameters['W1'][1][1]=parameters['W1'][1][1]+(0.0001*(y-y_hat)*parameters['W2'][1][0]*A1['O2']*(1-A1['O2'])*X[1])\n",
    "    parameters['B1'][1][0]=parameters['B1'][1][0]+(0.0001*(y-y_hat)*parameters['W2'][1][0]*A1['O2']*(1-A1['O2']))\n",
    "    \n",
    "    # 3rd Weights W5,W6,B3\n",
    "    parameters['W2'][0][0]=parameters['W1'][0][0]+(0.0001*(y-y_hat)*A1['O1'])\n",
    "    parameters['W2'][1][0]=parameters['W1'][1][0]+(0.0001*(y-y_hat)*A1['O2'])\n",
    "    parameters['B2'][0][0]=parameters['B2'][0][0]+(0.0001*(y-y_hat))\n",
    "    "
   ]
  },
  {
   "cell_type": "code",
   "execution_count": 9,
   "id": "fa95c12d",
   "metadata": {},
   "outputs": [
    {
     "name": "stdout",
     "output_type": "stream",
     "text": [
      "Epoch -  1 Loss -  0.6927110025842685\n",
      "Epoch -  2 Loss -  0.6927146149760659\n",
      "Epoch -  3 Loss -  0.6927144508336114\n",
      "Epoch -  4 Loss -  0.6927142867215587\n",
      "Epoch -  5 Loss -  0.692714122639901\n",
      "Epoch -  6 Loss -  0.6927139585886317\n",
      "Epoch -  7 Loss -  0.6927137945677443\n",
      "Epoch -  8 Loss -  0.6927136305772322\n",
      "Epoch -  9 Loss -  0.6927134666170887\n",
      "Epoch -  10 Loss -  0.6927133026873071\n"
     ]
    }
   ],
   "source": [
    "# Executing Epochs\n",
    "X=data.iloc[:,:-1]\n",
    "y=data.iloc[:,-1]\n",
    "parameters=init_parameters([2,2,1])\n",
    "epochs=10\n",
    "for i in range(epochs):\n",
    "    Loss = []\n",
    "    for j in range(X.shape[0]):\n",
    "        A1=cal_prediction(parameters,X.iloc[j])\n",
    "        update_parameters(parameters,X.iloc[j],A1,y[j],A1['O3'][0])\n",
    "        Loss.append(-y[j]*np.log(A1['O3'][0]) - (1-y[j])*np.log(1-A1['O3'][0]))\n",
    "    print('Epoch - ',i+1,'Loss - ',np.array(Loss).mean())"
   ]
  }
 ],
 "metadata": {
  "kernelspec": {
   "display_name": "Python 3 (ipykernel)",
   "language": "python",
   "name": "python3"
  },
  "language_info": {
   "codemirror_mode": {
    "name": "ipython",
    "version": 3
   },
   "file_extension": ".py",
   "mimetype": "text/x-python",
   "name": "python",
   "nbconvert_exporter": "python",
   "pygments_lexer": "ipython3",
   "version": "3.9.12"
  }
 },
 "nbformat": 4,
 "nbformat_minor": 5
}
